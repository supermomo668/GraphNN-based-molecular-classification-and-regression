{
 "cells": [
  {
   "cell_type": "code",
   "execution_count": 1,
   "id": "4bb8ae32-e55b-4796-988e-6d6c269c664e",
   "metadata": {
    "scrolled": true,
    "tags": []
   },
   "outputs": [
    {
     "name": "stderr",
     "output_type": "stream",
     "text": [
      "/home/mo/anaconda3/envs/dl1/lib/python3.9/site-packages/tqdm/auto.py:22: TqdmWarning: IProgress not found. Please update jupyter and ipywidgets. See https://ipywidgets.readthedocs.io/en/stable/user_install.html\n",
      "  from .autonotebook import tqdm as notebook_tqdm\n"
     ]
    },
    {
     "data": {
      "text/html": [
       "<div>\n",
       "<style scoped>\n",
       "    .dataframe tbody tr th:only-of-type {\n",
       "        vertical-align: middle;\n",
       "    }\n",
       "\n",
       "    .dataframe tbody tr th {\n",
       "        vertical-align: top;\n",
       "    }\n",
       "\n",
       "    .dataframe thead th {\n",
       "        text-align: right;\n",
       "    }\n",
       "</style>\n",
       "<table border=\"1\" class=\"dataframe\">\n",
       "  <thead>\n",
       "    <tr style=\"text-align: right;\">\n",
       "      <th></th>\n",
       "      <th>SMILES</th>\n",
       "      <th>measurement_type</th>\n",
       "      <th>measurement_value</th>\n",
       "      <th>Kinase_name</th>\n",
       "    </tr>\n",
       "  </thead>\n",
       "  <tbody>\n",
       "    <tr>\n",
       "      <th>0</th>\n",
       "      <td>C#CCCOC(=O)N1CCC(n2cc(C(N)=O)c(Nc3ccc(F)cc3)n2...</td>\n",
       "      <td>pIC50</td>\n",
       "      <td>6.81</td>\n",
       "      <td>JAK2</td>\n",
       "    </tr>\n",
       "    <tr>\n",
       "      <th>1</th>\n",
       "      <td>C#CCCOC(=O)N1CCC(n2cc(C(N)=O)c(Nc3ccc(F)cc3)n2...</td>\n",
       "      <td>pIC50</td>\n",
       "      <td>8.05</td>\n",
       "      <td>JAK1</td>\n",
       "    </tr>\n",
       "    <tr>\n",
       "      <th>2</th>\n",
       "      <td>C#CCN(c1ccc(C#N)cn1)C1CCN(c2ncnc3[nH]ccc23)C1</td>\n",
       "      <td>pIC50</td>\n",
       "      <td>10.26</td>\n",
       "      <td>JAK2</td>\n",
       "    </tr>\n",
       "    <tr>\n",
       "      <th>3</th>\n",
       "      <td>C#CCN(c1ccc(C#N)cn1)C1CCN(c2ncnc3[nH]ccc23)C1</td>\n",
       "      <td>pIC50</td>\n",
       "      <td>10.26</td>\n",
       "      <td>JAK1</td>\n",
       "    </tr>\n",
       "    <tr>\n",
       "      <th>4</th>\n",
       "      <td>C#CCNCC1CCC(c2nnn3cnc4[nH]ccc4c23)CC1</td>\n",
       "      <td>pIC50</td>\n",
       "      <td>7.36</td>\n",
       "      <td>JAK2</td>\n",
       "    </tr>\n",
       "  </tbody>\n",
       "</table>\n",
       "</div>"
      ],
      "text/plain": [
       "                                              SMILES measurement_type  \\\n",
       "0  C#CCCOC(=O)N1CCC(n2cc(C(N)=O)c(Nc3ccc(F)cc3)n2...            pIC50   \n",
       "1  C#CCCOC(=O)N1CCC(n2cc(C(N)=O)c(Nc3ccc(F)cc3)n2...            pIC50   \n",
       "2      C#CCN(c1ccc(C#N)cn1)C1CCN(c2ncnc3[nH]ccc23)C1            pIC50   \n",
       "3      C#CCN(c1ccc(C#N)cn1)C1CCN(c2ncnc3[nH]ccc23)C1            pIC50   \n",
       "4              C#CCNCC1CCC(c2nnn3cnc4[nH]ccc4c23)CC1            pIC50   \n",
       "\n",
       "   measurement_value Kinase_name  \n",
       "0               6.81        JAK2  \n",
       "1               8.05        JAK1  \n",
       "2              10.26        JAK2  \n",
       "3              10.26        JAK1  \n",
       "4               7.36        JAK2  "
      ]
     },
     "execution_count": 1,
     "metadata": {},
     "output_type": "execute_result"
    }
   ],
   "source": [
    "# import packages\n",
    "# RDkit\n",
    "# import packages\n",
    "# RDkit\n",
    "#from postera_gnn.data.featurize import *\n",
    "\n",
    "from rdkit import Chem\n",
    "from rdkit.Chem import GraphDescriptors\n",
    "from rdkit.Chem.rdmolops import GetAdjacencyMatrix\n",
    "\n",
    "import numpy as np, pandas as pd\n",
    "import torch\n",
    "from pathlib import Path\n",
    "\n",
    "%load_ext autoreload\n",
    "%autoreload 2\n",
    "df_data = pd.read_csv('data/kinase_JAK.csv')\n",
    "df_data.head()"
   ]
  },
  {
   "cell_type": "code",
   "execution_count": 29,
   "id": "750f9631-40af-4739-82b1-95aece145945",
   "metadata": {
    "scrolled": true,
    "tags": []
   },
   "outputs": [
    {
     "data": {
      "text/html": [
       "<div>\n",
       "<style scoped>\n",
       "    .dataframe tbody tr th:only-of-type {\n",
       "        vertical-align: middle;\n",
       "    }\n",
       "\n",
       "    .dataframe tbody tr th {\n",
       "        vertical-align: top;\n",
       "    }\n",
       "\n",
       "    .dataframe thead th {\n",
       "        text-align: right;\n",
       "    }\n",
       "</style>\n",
       "<table border=\"1\" class=\"dataframe\">\n",
       "  <thead>\n",
       "    <tr style=\"text-align: right;\">\n",
       "      <th>Kinase_name</th>\n",
       "      <th>SMILES</th>\n",
       "      <th>JAK1</th>\n",
       "      <th>JAK2</th>\n",
       "      <th>JAK3</th>\n",
       "      <th>TYK2</th>\n",
       "    </tr>\n",
       "  </thead>\n",
       "  <tbody>\n",
       "    <tr>\n",
       "      <th>0</th>\n",
       "      <td>BrCC1CCC(c2nnn3cnc4[nH]ccc4c23)CC1</td>\n",
       "      <td>9.40</td>\n",
       "      <td>8.59</td>\n",
       "      <td>7.13</td>\n",
       "      <td>8.59</td>\n",
       "    </tr>\n",
       "    <tr>\n",
       "      <th>1</th>\n",
       "      <td>Brc1cc(CN2CCC(c3nnn4cnc5[nH]ccc5c34)CC2)sc1Br</td>\n",
       "      <td>7.68</td>\n",
       "      <td>7.15</td>\n",
       "      <td>NaN</td>\n",
       "      <td>NaN</td>\n",
       "    </tr>\n",
       "  </tbody>\n",
       "</table>\n",
       "</div>"
      ],
      "text/plain": [
       "Kinase_name                                         SMILES  JAK1  JAK2  JAK3  \\\n",
       "0                       BrCC1CCC(c2nnn3cnc4[nH]ccc4c23)CC1  9.40  8.59  7.13   \n",
       "1            Brc1cc(CN2CCC(c3nnn4cnc5[nH]ccc5c34)CC2)sc1Br  7.68  7.15   NaN   \n",
       "\n",
       "Kinase_name  TYK2  \n",
       "0            8.59  \n",
       "1             NaN  "
      ]
     },
     "execution_count": 29,
     "metadata": {},
     "output_type": "execute_result"
    }
   ],
   "source": [
    "binding_df = pd.pivot_table(\n",
    "  df_data, index='SMILES', columns='Kinase_name',\n",
    "  values='measurement_value').reset_index()\n",
    "binding_df.head(2)"
   ]
  },
  {
   "cell_type": "code",
   "execution_count": 50,
   "id": "092ba7b3-f296-4118-aad1-14afb8855be7",
   "metadata": {},
   "outputs": [
    {
     "data": {
      "image/png": "[encoded data removed]",
      "text/plain": [
       "<rdkit.Chem.rdchem.Mol at 0x7f8f60b54580>"
      ]
     },
     "execution_count": 50,
     "metadata": {},
     "output_type": "execute_result"
    }
   ],
   "source": [
    "mol = Chem.MolFromSmiles(binding_df.SMILES[0])\n",
    "mol"
   ]
  },
  {
   "cell_type": "code",
   "execution_count": 69,
   "id": "d5935a52-92a9-4467-9a2d-f41414736c0e",
   "metadata": {
    "scrolled": true,
    "tags": []
   },
   "outputs": [
    {
     "data": {
      "text/plain": [
       "()"
      ]
     },
     "execution_count": 69,
     "metadata": {},
     "output_type": "execute_result"
    }
   ],
   "source": [
    "mol.GetSubstructMatches(Chem.MolFromSmarts(df_func_gps.iloc[3].SMILES))"
   ]
  },
  {
   "cell_type": "markdown",
   "id": "560c9f96-791d-4a32-af32-a8c24b2d930f",
   "metadata": {},
   "source": [
    "<b> Functional groups"
   ]
  },
  {
   "cell_type": "code",
   "execution_count": 57,
   "id": "6720631a-84cb-43ac-8268-b1c74a3bdcd4",
   "metadata": {},
   "outputs": [
    {
     "data": {
      "text/html": [
       "<div>\n",
       "<style scoped>\n",
       "    .dataframe tbody tr th:only-of-type {\n",
       "        vertical-align: middle;\n",
       "    }\n",
       "\n",
       "    .dataframe tbody tr th {\n",
       "        vertical-align: top;\n",
       "    }\n",
       "\n",
       "    .dataframe thead th {\n",
       "        text-align: right;\n",
       "    }\n",
       "</style>\n",
       "<table border=\"1\" class=\"dataframe\">\n",
       "  <thead>\n",
       "    <tr style=\"text-align: right;\">\n",
       "      <th></th>\n",
       "      <th>SMILES</th>\n",
       "      <th>functional_groups</th>\n",
       "    </tr>\n",
       "  </thead>\n",
       "  <tbody>\n",
       "    <tr>\n",
       "      <th>0</th>\n",
       "      <td>[R]O</td>\n",
       "      <td>Alcohol</td>\n",
       "    </tr>\n",
       "    <tr>\n",
       "      <th>1</th>\n",
       "      <td>[R]C([R])=C([R])[R]</td>\n",
       "      <td>Alkene</td>\n",
       "    </tr>\n",
       "    <tr>\n",
       "      <th>2</th>\n",
       "      <td>[R]C#C[R]</td>\n",
       "      <td>Alkyne</td>\n",
       "    </tr>\n",
       "    <tr>\n",
       "      <th>3</th>\n",
       "      <td>[R]C=O</td>\n",
       "      <td>Aldehyde</td>\n",
       "    </tr>\n",
       "    <tr>\n",
       "      <th>4</th>\n",
       "      <td>[R]C=S</td>\n",
       "      <td>Thial</td>\n",
       "    </tr>\n",
       "  </tbody>\n",
       "</table>\n",
       "</div>"
      ],
      "text/plain": [
       "                SMILES functional_groups\n",
       "0                 [R]O           Alcohol\n",
       "1  [R]C([R])=C([R])[R]            Alkene\n",
       "2            [R]C#C[R]            Alkyne\n",
       "3               [R]C=O          Aldehyde\n",
       "4               [R]C=S             Thial"
      ]
     },
     "execution_count": 57,
     "metadata": {},
     "output_type": "execute_result"
    }
   ],
   "source": [
    "import numpy as np, pandas as pd\n",
    "df_func_gps = pd.read_csv('data/functional_groups.csv', header=None)\n",
    "df_func_gps.columns = ['SMILES', 'functional_groups']\n",
    "df_func_gps.head()"
   ]
  },
  {
   "cell_type": "code",
   "execution_count": 75,
   "id": "9a902f75-7189-42b9-9e96-5af5dd2dd24b",
   "metadata": {},
   "outputs": [
    {
     "data": {
      "text/html": [
       "<div>\n",
       "<style scoped>\n",
       "    .dataframe tbody tr th:only-of-type {\n",
       "        vertical-align: middle;\n",
       "    }\n",
       "\n",
       "    .dataframe tbody tr th {\n",
       "        vertical-align: top;\n",
       "    }\n",
       "\n",
       "    .dataframe thead th {\n",
       "        text-align: right;\n",
       "    }\n",
       "</style>\n",
       "<table border=\"1\" class=\"dataframe\">\n",
       "  <thead>\n",
       "    <tr style=\"text-align: right;\">\n",
       "      <th></th>\n",
       "      <th>SMILES</th>\n",
       "      <th>measurement_type</th>\n",
       "      <th>measurement_value</th>\n",
       "      <th>Kinase_name</th>\n",
       "      <th>Alcohol</th>\n",
       "      <th>Alkene</th>\n",
       "      <th>Alkyne</th>\n",
       "      <th>Aldehyde</th>\n",
       "      <th>Thial</th>\n",
       "      <th>Ketone</th>\n",
       "      <th>...</th>\n",
       "      <th>Isocynate</th>\n",
       "      <th>Nitrate</th>\n",
       "      <th>Isonitrile</th>\n",
       "      <th>Nitrosooxy</th>\n",
       "      <th>Nitro</th>\n",
       "      <th>Nitroso</th>\n",
       "      <th>Aldoxime</th>\n",
       "      <th>Ketoxime</th>\n",
       "      <th>Carbamate</th>\n",
       "      <th>Nitrile</th>\n",
       "    </tr>\n",
       "  </thead>\n",
       "  <tbody>\n",
       "    <tr>\n",
       "      <th>0</th>\n",
       "      <td>C#CCCOC(=O)N1CCC(n2cc(C(N)=O)c(Nc3ccc(F)cc3)n2...</td>\n",
       "      <td>pIC50</td>\n",
       "      <td>6.81</td>\n",
       "      <td>JAK2</td>\n",
       "      <td>0.0</td>\n",
       "      <td>0.0</td>\n",
       "      <td>0.0</td>\n",
       "      <td>0.0</td>\n",
       "      <td>0.0</td>\n",
       "      <td>0.0</td>\n",
       "      <td>...</td>\n",
       "      <td>0.0</td>\n",
       "      <td>0.0</td>\n",
       "      <td>0.0</td>\n",
       "      <td>0.0</td>\n",
       "      <td>0.0</td>\n",
       "      <td>0.0</td>\n",
       "      <td>0.0</td>\n",
       "      <td>0.0</td>\n",
       "      <td>0.0</td>\n",
       "      <td>0.0</td>\n",
       "    </tr>\n",
       "    <tr>\n",
       "      <th>1</th>\n",
       "      <td>C#CCCOC(=O)N1CCC(n2cc(C(N)=O)c(Nc3ccc(F)cc3)n2...</td>\n",
       "      <td>pIC50</td>\n",
       "      <td>8.05</td>\n",
       "      <td>JAK1</td>\n",
       "      <td>0.0</td>\n",
       "      <td>0.0</td>\n",
       "      <td>0.0</td>\n",
       "      <td>0.0</td>\n",
       "      <td>0.0</td>\n",
       "      <td>0.0</td>\n",
       "      <td>...</td>\n",
       "      <td>0.0</td>\n",
       "      <td>0.0</td>\n",
       "      <td>0.0</td>\n",
       "      <td>0.0</td>\n",
       "      <td>0.0</td>\n",
       "      <td>0.0</td>\n",
       "      <td>0.0</td>\n",
       "      <td>0.0</td>\n",
       "      <td>0.0</td>\n",
       "      <td>0.0</td>\n",
       "    </tr>\n",
       "  </tbody>\n",
       "</table>\n",
       "<p>2 rows × 58 columns</p>\n",
       "</div>"
      ],
      "text/plain": [
       "                                              SMILES measurement_type  \\\n",
       "0  C#CCCOC(=O)N1CCC(n2cc(C(N)=O)c(Nc3ccc(F)cc3)n2...            pIC50   \n",
       "1  C#CCCOC(=O)N1CCC(n2cc(C(N)=O)c(Nc3ccc(F)cc3)n2...            pIC50   \n",
       "\n",
       "   measurement_value Kinase_name   Alcohol   Alkene   Alkyne   Aldehyde  \\\n",
       "0               6.81        JAK2       0.0      0.0      0.0        0.0   \n",
       "1               8.05        JAK1       0.0      0.0      0.0        0.0   \n",
       "\n",
       "    Thial   Ketone  ...   Isocynate   Nitrate   Isonitrile   Nitrosooxy  \\\n",
       "0     0.0      0.0  ...         0.0       0.0          0.0          0.0   \n",
       "1     0.0      0.0  ...         0.0       0.0          0.0          0.0   \n",
       "\n",
       "    Nitro   Nitroso   Aldoxime   Ketoxime   Carbamate   Nitrile  \n",
       "0     0.0       0.0        0.0        0.0         0.0       0.0  \n",
       "1     0.0       0.0        0.0        0.0         0.0       0.0  \n",
       "\n",
       "[2 rows x 58 columns]"
      ]
     },
     "execution_count": 75,
     "metadata": {},
     "output_type": "execute_result"
    }
   ],
   "source": [
    "def get_func_groups_pos(smiles, df_func_gps=df_func_gps):\n",
    "  mol = Chem.MolFromSmiles(smiles)\n",
    "  onehot_func_gps = np.zeros(len(df_func_gps), dtype=int)\n",
    "  for i, smiles in enumerate(df_func_gps['SMILES']):\n",
    "    substruct = Chem.MolFromSmarts(smiles)\n",
    "    match_pos = mol.GetSubstructMatches(substruct)\n",
    "    onehot_func_gps[i] = len(match_pos)\n",
    "  return pd.Series(onehot_func_gps,\n",
    "                   index=df_func_gps.functional_groups)\n",
    "\n",
    "func_gps = binding_df.SMILES.apply(\n",
    "  lambda s: get_func_groups_pos(s, df_func_gps))\n",
    "df_data_added = pd.concat([df_data, func_gps.astype(int)],\n",
    "                          axis=1)\n",
    "df_data_added.head(2)"
   ]
  },
  {
   "cell_type": "markdown",
   "id": "86aaafcb-14ec-4c9b-9769-5fd459fdb8fc",
   "metadata": {},
   "source": [
    "### Analysis & Visualizations"
   ]
  },
  {
   "cell_type": "code",
   "execution_count": 76,
   "id": "23c5da93-4e55-4262-8a99-f3b4d01263d4",
   "metadata": {},
   "outputs": [],
   "source": [
    "import matplotlib as plt, seaborn as sb"
   ]
  },
  {
   "cell_type": "code",
   "execution_count": 78,
   "id": "c12d5cfc-d809-47cb-8aa3-1844b4adeaf4",
   "metadata": {},
   "outputs": [
    {
     "data": {
      "text/plain": [
       "<AxesSubplot: xlabel='Kinase_name', ylabel='measurement_value'>"
      ]
     },
     "execution_count": 78,
     "metadata": {},
     "output_type": "execute_result"
    },
    {
     "data": {
      "image/png": "[encoded data removed]",
      "text/plain": [
       "<Figure size 640x480 with 1 Axes>"
      ]
     },
     "metadata": {},
     "output_type": "display_data"
    }
   ],
   "source": [
    "x, y = 'Kinase_name', 'measurement_value'\n",
    "cols = [x, y]\n",
    "sb.histplot(df_data_added[cols], x=x, y=y)"
   ]
  }
 ],
 "metadata": {
  "kernelspec": {
   "display_name": "dl",
   "language": "python",
   "name": "dl"
  },
  "language_info": {
   "codemirror_mode": {
    "name": "ipython",
    "version": 3
   },
   "file_extension": ".py",
   "mimetype": "text/x-python",
   "name": "python",
   "nbconvert_exporter": "python",
   "pygments_lexer": "ipython3",
   "version": "3.9.15"
  }
 },
 "nbformat": 4,
 "nbformat_minor": 5
}
