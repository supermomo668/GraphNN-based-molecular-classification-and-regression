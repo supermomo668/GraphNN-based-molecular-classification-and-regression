{
 "cells": [
  {
   "cell_type": "code",
   "execution_count": 17,
   "id": "f133c444-6e29-4382-bf04-1625537aa903",
   "metadata": {},
   "outputs": [
    {
     "name": "stdout",
     "output_type": "stream",
     "text": [
      "The autoreload extension is already loaded. To reload it, use:\n",
      "  %reload_ext autoreload\n"
     ]
    }
   ],
   "source": [
    "# import packages\n",
    "# RDkit\n",
    "from rdkit import Chem\n",
    "from rdkit.Chem import GraphDescriptors\n",
    "from rdkit.Chem.rdmolops import GetAdjacencyMatrix\n",
    "\n",
    "import pandas as pd, numpy as np\n",
    "\n",
    "import torch\n",
    "%load_ext autoreload\n",
    "%autoreload 2"
   ]
  },
  {
   "cell_type": "code",
   "execution_count": 3,
   "id": "4bb8ae32-e55b-4796-988e-6d6c269c664e",
   "metadata": {
    "scrolled": true,
    "tags": []
   },
   "outputs": [
    {
     "data": {
      "text/html": [
       "<div>\n",
       "<style scoped>\n",
       "    .dataframe tbody tr th:only-of-type {\n",
       "        vertical-align: middle;\n",
       "    }\n",
       "\n",
       "    .dataframe tbody tr th {\n",
       "        vertical-align: top;\n",
       "    }\n",
       "\n",
       "    .dataframe thead th {\n",
       "        text-align: right;\n",
       "    }\n",
       "</style>\n",
       "<table border=\"1\" class=\"dataframe\">\n",
       "  <thead>\n",
       "    <tr style=\"text-align: right;\">\n",
       "      <th></th>\n",
       "      <th>SMILES</th>\n",
       "      <th>measurement_type</th>\n",
       "      <th>measurement_value</th>\n",
       "      <th>Kinase_name</th>\n",
       "    </tr>\n",
       "  </thead>\n",
       "  <tbody>\n",
       "    <tr>\n",
       "      <th>0</th>\n",
       "      <td>C#CCCOC(=O)N1CCC(n2cc(C(N)=O)c(Nc3ccc(F)cc3)n2...</td>\n",
       "      <td>pIC50</td>\n",
       "      <td>6.81</td>\n",
       "      <td>JAK2</td>\n",
       "    </tr>\n",
       "    <tr>\n",
       "      <th>1</th>\n",
       "      <td>C#CCCOC(=O)N1CCC(n2cc(C(N)=O)c(Nc3ccc(F)cc3)n2...</td>\n",
       "      <td>pIC50</td>\n",
       "      <td>8.05</td>\n",
       "      <td>JAK1</td>\n",
       "    </tr>\n",
       "    <tr>\n",
       "      <th>2</th>\n",
       "      <td>C#CCN(c1ccc(C#N)cn1)C1CCN(c2ncnc3[nH]ccc23)C1</td>\n",
       "      <td>pIC50</td>\n",
       "      <td>10.26</td>\n",
       "      <td>JAK2</td>\n",
       "    </tr>\n",
       "    <tr>\n",
       "      <th>3</th>\n",
       "      <td>C#CCN(c1ccc(C#N)cn1)C1CCN(c2ncnc3[nH]ccc23)C1</td>\n",
       "      <td>pIC50</td>\n",
       "      <td>10.26</td>\n",
       "      <td>JAK1</td>\n",
       "    </tr>\n",
       "    <tr>\n",
       "      <th>4</th>\n",
       "      <td>C#CCNCC1CCC(c2nnn3cnc4[nH]ccc4c23)CC1</td>\n",
       "      <td>pIC50</td>\n",
       "      <td>7.36</td>\n",
       "      <td>JAK2</td>\n",
       "    </tr>\n",
       "  </tbody>\n",
       "</table>\n",
       "</div>"
      ],
      "text/plain": [
       "                                              SMILES measurement_type  \\\n",
       "0  C#CCCOC(=O)N1CCC(n2cc(C(N)=O)c(Nc3ccc(F)cc3)n2...            pIC50   \n",
       "1  C#CCCOC(=O)N1CCC(n2cc(C(N)=O)c(Nc3ccc(F)cc3)n2...            pIC50   \n",
       "2      C#CCN(c1ccc(C#N)cn1)C1CCN(c2ncnc3[nH]ccc23)C1            pIC50   \n",
       "3      C#CCN(c1ccc(C#N)cn1)C1CCN(c2ncnc3[nH]ccc23)C1            pIC50   \n",
       "4              C#CCNCC1CCC(c2nnn3cnc4[nH]ccc4c23)CC1            pIC50   \n",
       "\n",
       "   measurement_value Kinase_name  \n",
       "0               6.81        JAK2  \n",
       "1               8.05        JAK1  \n",
       "2              10.26        JAK2  \n",
       "3              10.26        JAK1  \n",
       "4               7.36        JAK2  "
      ]
     },
     "execution_count": 3,
     "metadata": {},
     "output_type": "execute_result"
    }
   ],
   "source": [
    "df_data = pd.read_csv('data/kinase_JAK.csv')\n",
    "df_data.head()"
   ]
  },
  {
   "cell_type": "code",
   "execution_count": 4,
   "id": "745ed2c5-1f3d-442d-bdc9-466be1c422fb",
   "metadata": {},
   "outputs": [],
   "source": [
    "def onehot_encode(x, features:list):\n",
    "    \"\"\"\n",
    "    Maps input elements x not in features to the last element\n",
    "    \"\"\"\n",
    "    if x not in features: x = features[-1]\n",
    "    binary_encoding = [int(bool_val) for bool_val in list(\n",
    "       map(lambda s: x == s, features))]\n",
    "    return binary_encoding\n",
    "  \n",
    "class onehot_encodings:\n",
    "  ''' encoding class for one hot features'''\n",
    "  def __init__(self, atom_info_func, features):\n",
    "    self.atom_info_func = atom_info_func\n",
    "    self.features = features\n",
    "  \n",
    "  #@property\n",
    "  def onehot_encodings(self, atom):\n",
    "    return onehot_encode(self.atom_info_func(atom), self.features)\n",
    "  \n",
    "  def __len__(self): return len(self.features)\n",
    "                            \n",
    "class FeaturesArgs:\n",
    "  # encodings information\n",
    "  available_atoms = [\n",
    "        'C','N','O','S','F','Si','P','Cl','Br','Mg','Na','Ca','Fe','As','Al','I',\n",
    "        'B','V','K','Tl','Yb','Sb','Sn','Ag','Pd','Co','Se','Ti','Zn', 'Li','Ge',\n",
    "        'Cu','Au','Ni','Cd','In','Mn','Zr','Cr','Pt','Hg','Pb','Unknown'\n",
    "  ]\n",
    "  chirality = [\"CHI_UNSPECIFIED\",\"CHI_TETRAHEDRAL_CW\",\"CHI_TETRAHEDRAL_CCW\",\"CHI_OTHER\"]\n",
    "  num_hydrogens = [0, 1, 2, 3, 4, \"MoreThanFour\"]\n",
    "  n_heavy_atoms = num_hydrogens\n",
    "  formal_charges = [-3, -2, -1, 0, 1, 2, 3, \"Extreme\"]\n",
    "  hybridisation_type = [\"S\", \"SP\", \"SP2\", \"SP3\", \"SP3D\", \"SP3D2\", \"OTHER\"]\n",
    "  # Atoms\n",
    "    # atom encodings\n",
    "  atom_encoding_lambdas = {\n",
    "    'available_atoms': onehot_encodings(\n",
    "      lambda atom: str(atom.GetSymbol()), available_atoms),\n",
    "    'chirality_type_enc': onehot_encodings(\n",
    "      lambda atom: str(atom.GetChiralTag()), chirality),\n",
    "    'hydrogens_implicit': onehot_encodings(\n",
    "      lambda atom: int(atom.GetTotalNumHs()), num_hydrogens),\n",
    "    'n_heavy_atoms': onehot_encodings(\n",
    "      lambda atom: int(atom.GetDegree()), n_heavy_atoms),\n",
    "    'formal_charge': onehot_encodings(\n",
    "      lambda atom: int(atom.GetFormalCharge()), formal_charges),\n",
    "    'hybridisation_type': onehot_encodings(\n",
    "      lambda atom: str(atom.GetHybridization()), hybridisation_type)\n",
    "  }\n",
    "    # atom info\n",
    "  atom_info_lambdas = {\n",
    "    'is_in_a_ring_enc': lambda atom: [int(atom.IsInRing())],\n",
    "    'is_aromatic_enc': lambda atom: [int(atom.GetIsAromatic())],\n",
    "    'atomic_mass_scaled': lambda atom: [float((atom.GetMass() - 10.812)/116.092)],\n",
    "    'vdw_radius_scaled': lambda atom: [float(\n",
    "      (Chem.GetPeriodicTable().GetRvdw(atom.GetAtomicNum()) - 1.5)/0.6)],\n",
    "    'covalent_radius_scaled': lambda atom:[float(\n",
    "      (Chem.GetPeriodicTable().GetRcovalent(atom.GetAtomicNum()) - 0.64)/0.76)]\n",
    "  }\n",
    "    # compute node feature length\n",
    "  n_node_features = sum(map(len, atom_encoding_lambdas.values()))\n",
    "  n_node_features += len(atom_info_lambdas)\n",
    "  \n",
    "  # Bonds encoding info\n",
    "  bond_types = [Chem.rdchem.BondType.SINGLE, Chem.rdchem.BondType.DOUBLE,\n",
    "                Chem.rdchem.BondType.TRIPLE, Chem.rdchem.BondType.AROMATIC]\n",
    "  stereo_types = [\"STEREOZ\", \"STEREOE\", \"STEREOANY\", \"STEREONONE\"]\n",
    "    # bond encodings\n",
    "  bond_encoding_lambdas = {\n",
    "    'bond_types': onehot_encodings(\n",
    "      lambda bond: bond.GetBondType(), bond_types),\n",
    "    'stereo_types': onehot_encodings(\n",
    "      lambda bond: str(bond.GetStereo()), stereo_types)\n",
    "  }\n",
    "    # bond quantity\n",
    "  bond_info_lambas = {\n",
    "    'bond_is_conj_enc': lambda bond: [int(bond.GetIsConjugated())],\n",
    "    'bond_is_in_ring_enc': lambda bond: [int(bond.IsInRing())]\n",
    "  }\n",
    "  n_edge_features = sum(map(len, bond_encoding_lambdas.values()))\n",
    "  n_edge_features += len(bond_info_lambas)\n",
    "  # Molecule\n",
    "  lambda mol: GraphDescriptors.BalabanJ(mol)"
   ]
  },
  {
   "cell_type": "code",
   "execution_count": 5,
   "id": "58d5ceff-2f7a-4c86-b863-e82f637d8f8c",
   "metadata": {},
   "outputs": [],
   "source": [
    "def get_atom_features(atom, \n",
    "                      available_atoms:list = FeaturesArgs.available_atoms,\n",
    "                      atom_encode_lambdas: dict = FeaturesArgs.atom_encoding_lambdas,\n",
    "                      atom_info_lambdas: dict = FeaturesArgs.atom_info_lambdas,\n",
    "                      debug=False\n",
    "                     ):\n",
    "  \"\"\"\n",
    "  Takes an RDKit atom object as input and gives a 1d-numpy array of atom features as output.\n",
    "  \"\"\"  \n",
    "  if 'hydrogens_implicit' in atom_encode_lambdas:\n",
    "    available_atoms = ['H'] + available_atoms\n",
    "  atom_feature_vector = []\n",
    "  # compute atom features\n",
    "  for name, atom_encoding in atom_encode_lambdas.items():\n",
    "    encoding = atom_encoding.onehot_encodings(atom)\n",
    "    atom_feature_vector += encoding\n",
    "    if debug: print(f\"atom encoding length ({name}): {len(encoding)}\")\n",
    "    # boolean features\n",
    "  for name, info_func in atom_info_lambdas.items():\n",
    "    atom_feature_vector += info_func(atom)\n",
    "    if debug: print(f\"atom info ({name}): {info_func(atom)}\")\n",
    "  if debug: print(f\"full atom feature:{len(atom_feature_vector)}\")\n",
    "  return torch.Tensor(atom_feature_vector)\n",
    "\n",
    "def get_bond_features(bond, \n",
    "                      bond_encoding_lambdas: dict = FeaturesArgs.bond_encoding_lambdas,\n",
    "                      bond_info_lambdas: dict = FeaturesArgs.bond_info_lambas,\n",
    "                      debug=False):\n",
    "  \"\"\"\n",
    "  Takes an RDKit bond object as input and gives a 1d-numpy array of bond features as output.\n",
    "  \"\"\"\n",
    "  bond_feature_vector = []\n",
    "    # compute bond features\n",
    "  for name, bond_encoding in bond_encoding_lambdas.items():\n",
    "    encoding = bond_encoding.onehot_encodings(bond)\n",
    "    bond_feature_vector += encoding\n",
    "    if debug: print(f\"bond encoding length ({name}): {len(bond_feature_vector)}\")\n",
    "    # boolean features\n",
    "  for name, info_func in bond_info_lambdas.items():\n",
    "    bond_feature_vector += info_func(bond)\n",
    "    if debug: print(f\"bond info ({name}): {info_func(bond)}\")\n",
    "    return torch.Tensor(bond_feature_vector)"
   ]
  },
  {
   "cell_type": "code",
   "execution_count": 18,
   "id": "a4ea1074-e969-4624-8cb6-7a891c6c9f66",
   "metadata": {},
   "outputs": [
    {
     "name": "stdout",
     "output_type": "stream",
     "text": [
      "atom encoding length (available_atoms): 43\n",
      "atom encoding length (chirality_type_enc): 4\n",
      "atom encoding length (hydrogens_implicit): 6\n",
      "atom encoding length (n_heavy_atoms): 6\n",
      "atom encoding length (formal_charge): 8\n",
      "atom encoding length (hybridisation_type): 7\n",
      "atom info (is_in_a_ring_enc): [0]\n",
      "atom info (is_aromatic_enc): [0]\n",
      "atom info (atomic_mass_scaled): [0.010328015711676944]\n",
      "atom info (vdw_radius_scaled): [0.33333333333333326]\n",
      "atom info (covalent_radius_scaled): [0.05263157894736847]\n",
      "full atom feature:79\n",
      "79\n"
     ]
    }
   ],
   "source": [
    "mol = Chem.MolFromSmiles(df_data['SMILES'][0])\n",
    "atom = mol.GetAtoms()[0]\n",
    "atom_features = get_atom_features(atom, debug=True)\n",
    "print(len(atom_features))"
   ]
  },
  {
   "cell_type": "code",
   "execution_count": 19,
   "id": "22ce77a9-04e1-44d9-b700-66466ac47200",
   "metadata": {
    "tags": []
   },
   "outputs": [
    {
     "name": "stdout",
     "output_type": "stream",
     "text": [
      "bond encoding length (bond_types): 4\n",
      "bond encoding length (stereo_types): 8\n",
      "bond info (bond_is_conj_enc): [0]\n",
      "tensor([0., 0., 1., 0., 0., 0., 0., 1., 0.])\n"
     ]
    }
   ],
   "source": [
    "bond = mol.GetBondBetweenAtoms(0, 1)\n",
    "bond_features = get_bond_features(bond, debug=True)\n",
    "print(bond_features)"
   ]
  },
  {
   "cell_type": "code",
   "execution_count": 20,
   "id": "f1cbe313-dda3-4b38-997e-56e90c3786d1",
   "metadata": {},
   "outputs": [],
   "source": [
    "def smile_to_data(smiles, y_val):\n",
    "  # convert SMILES to RDKit mol object\n",
    "  mol = Chem.MolFromSmiles(smiles)\n",
    "  # get feature dimensions\n",
    "  n_nodes = mol.GetNumAtoms()\n",
    "  n_edges = 2*mol.GetNumBonds()\n",
    "\n",
    "  # construct node feature matrix X of shape (n_nodes, n_node_features)\n",
    "  for n, atom in enumerate(mol.GetAtoms()):\n",
    "    atom_features = get_atom_features(atom)\n",
    "    if n==0: X = torch.zeros((n_nodes, len(atom_features)), dtype=torch.float)\n",
    "    X[atom.GetIdx(), :] = atom_features\n",
    "    \n",
    "  # construct edge index array E of shape (2, n_edges)\n",
    "  E_ij = torch.stack(\n",
    "    list(map(\n",
    "      lambda arr: torch.Tensor(arr).to(torch.long),\n",
    "      np.nonzero(GetAdjacencyMatrix(mol))))\n",
    "  )\n",
    "  # construct edge feature array EF of shape (n_edges, n_edge_features)\n",
    "  EF = torch.stack([\n",
    "    get_bond_features(mol.GetBondBetweenAtoms(i.item(), j.item())) for i, j in zip(\n",
    "      E_ij[0], E_ij[1])]\n",
    "  )\n",
    "  # construct label tensor\n",
    "  y_tensor = torch.tensor(np.array([y_val]), dtype = torch.float)\n",
    "  return X, E_ij, EF, y_tensor\n",
    "        \n",
    "def graph_datalist_from_smiles_and_labels(x_smiles, y):\n",
    "    \"\"\"\n",
    "    Inputs:\n",
    "      x_smiles [list]: SMILES strings\n",
    "      y [list]: numerial labels for the SMILES strings\n",
    "    Outputs:\n",
    "      data_list [list]: torch_geometric.data.Data objects which represent labeled molecular graphs that can readily be used for machine learning\n",
    "    \n",
    "    \"\"\"\n",
    "    data_list = []\n",
    "    for (smiles, y_val) in zip(x_smiles, y):\n",
    "        X, E, EF, y_tensor = smile_to_data(smiles, y_val)\n",
    "        #print(list(map(type, [X, E, EF, y_tensor])))\n",
    "        # construct Pytorch Geometric data object and append to data list\n",
    "        data_list.append(\n",
    "          Data(x = X, edge_index = E, edge_attr = EF, y = y_tensor))\n",
    "    return data_list"
   ]
  },
  {
   "cell_type": "code",
   "execution_count": 26,
   "id": "4f2e3081-9a30-409b-b2ab-a3ad214060eb",
   "metadata": {
    "scrolled": true,
    "tags": []
   },
   "outputs": [],
   "source": [
    "# canonical training loop for a Pytorch Geometric GNN model gnn_model\n",
    "x_smiles, y = df_data.to_numpy()[:,0], df_data.to_numpy()[:,-2]\n",
    "# create list of molecular graph objects from list of SMILES x_smiles and list of labels y\n",
    "data_list = graph_datalist_from_smiles_and_labels(x_smiles, y)"
   ]
  },
  {
   "cell_type": "markdown",
   "id": "c5109f6d-c161-4874-bb23-a23931915d3a",
   "metadata": {},
   "source": [
    "PyGeometric dataset"
   ]
  },
  {
   "cell_type": "code",
   "execution_count": 33,
   "id": "9524e140-f63c-4a9d-ba35-47ba5a50ec4c",
   "metadata": {},
   "outputs": [],
   "source": [
    "from torch_geometric.loader import DataLoader\n",
    "from torch_geometric.data import Data, InMemoryDataset, download_url"
   ]
  },
  {
   "cell_type": "code",
   "execution_count": 34,
   "id": "c8744317-066d-42de-8d97-4573886a3cc9",
   "metadata": {},
   "outputs": [],
   "source": [
    "class Molecule_pKa(InMemoryDataset):\n",
    "    def __init__(self, root, data_list, transform=None):\n",
    "        self.data_list = data_list\n",
    "        super().__init__(root, transform)\n",
    "        self.data, self.slices = torch.load(self.processed_paths[0])\n",
    "\n",
    "    @property\n",
    "    def processed_file_names(self):\n",
    "        return 'data.pt'\n",
    "\n",
    "    def process(self):\n",
    "        torch.save(self.collate(self.data_list), self.processed_paths[0])"
   ]
  },
  {
   "cell_type": "code",
   "execution_count": 35,
   "id": "e9211b83-f869-4b7a-92d2-3c860a89ea15",
   "metadata": {},
   "outputs": [],
   "source": [
    "dataset = Molecule_pKa('.', data_list)"
   ]
  },
  {
   "cell_type": "markdown",
   "id": "d6f0ec92-2671-4799-942f-6581bba75d66",
   "metadata": {},
   "source": [
    "Model"
   ]
  },
  {
   "cell_type": "code",
   "execution_count": 36,
   "id": "adedf318-8fa0-4c62-88e6-23bed3d2e209",
   "metadata": {},
   "outputs": [],
   "source": [
    "from postera_gnn.model.models import *"
   ]
  },
  {
   "cell_type": "code",
   "execution_count": 382,
   "id": "47ce4707-7936-48dc-a830-e576d9b4e78c",
   "metadata": {},
   "outputs": [],
   "source": [
    "model = GIN\n",
    "gnn_model = model(FeaturesArgs.n_edge_features + FeaturesArgs.n_node_features, 1)"
   ]
  },
  {
   "cell_type": "markdown",
   "id": "c46731cc-b188-4b29-8ce5-fc1fc51f03fc",
   "metadata": {},
   "source": [
    "### Training"
   ]
  },
  {
   "cell_type": "code",
   "execution_count": 409,
   "id": "04e00331-c47f-4478-ae63-75c91f070e44",
   "metadata": {},
   "outputs": [],
   "source": [
    "class TrainArgs:\n",
    "  batch_size=2**7"
   ]
  },
  {
   "cell_type": "code",
   "execution_count": 410,
   "id": "e1751a0d-c35d-4b9b-832c-0dc4c4db9538",
   "metadata": {},
   "outputs": [],
   "source": [
    "# create dataloader for training\n",
    "dataloader = DataLoader(dataset = data_list, batch_size = TrainArgs.batch_size)\n",
    "# define loss function\n",
    "loss_function = nn.MSELoss()\n",
    "# define optimiser\n",
    "optimiser = torch.optim.Adam(gnn_model.parameters(), lr = 1e-3)"
   ]
  },
  {
   "cell_type": "code",
   "execution_count": 405,
   "id": "5a5a19c1-91b9-4a0c-9924-dc59f77cfcbf",
   "metadata": {
    "scrolled": true,
    "tags": []
   },
   "outputs": [
    {
     "ename": "TypeError",
     "evalue": "forward() missing 1 required positional argument: 'edge_index'",
     "output_type": "error",
     "traceback": [
      "\u001b[0;31m---------------------------------------------------------------------------\u001b[0m",
      "\u001b[0;31mTypeError\u001b[0m                                 Traceback (most recent call last)",
      "\u001b[0;32m/tmp/ipykernel_26681/2956580927.py\u001b[0m in \u001b[0;36m<cell line: 2>\u001b[0;34m()\u001b[0m\n\u001b[1;32m      6\u001b[0m     \u001b[0;32mfor\u001b[0m \u001b[0;34m(\u001b[0m\u001b[0mk\u001b[0m\u001b[0;34m,\u001b[0m \u001b[0mbatch\u001b[0m\u001b[0;34m)\u001b[0m \u001b[0;32min\u001b[0m \u001b[0menumerate\u001b[0m\u001b[0;34m(\u001b[0m\u001b[0mdataloader\u001b[0m\u001b[0;34m)\u001b[0m\u001b[0;34m:\u001b[0m\u001b[0;34m\u001b[0m\u001b[0;34m\u001b[0m\u001b[0m\n\u001b[1;32m      7\u001b[0m         \u001b[0;31m# compute current value of loss function via forward pass\u001b[0m\u001b[0;34m\u001b[0m\u001b[0;34m\u001b[0m\u001b[0m\n\u001b[0;32m----> 8\u001b[0;31m         \u001b[0moutput\u001b[0m \u001b[0;34m=\u001b[0m \u001b[0mgnn_model\u001b[0m\u001b[0;34m(\u001b[0m\u001b[0mbatch\u001b[0m\u001b[0;34m)\u001b[0m\u001b[0;34m\u001b[0m\u001b[0;34m\u001b[0m\u001b[0m\n\u001b[0m\u001b[1;32m      9\u001b[0m         \u001b[0mloss_function_value\u001b[0m \u001b[0;34m=\u001b[0m \u001b[0mloss_function\u001b[0m\u001b[0;34m(\u001b[0m\u001b[0moutput\u001b[0m\u001b[0;34m[\u001b[0m\u001b[0;34m:\u001b[0m\u001b[0;34m,\u001b[0m\u001b[0;36m0\u001b[0m\u001b[0;34m]\u001b[0m\u001b[0;34m,\u001b[0m \u001b[0mtorch\u001b[0m\u001b[0;34m.\u001b[0m\u001b[0mtensor\u001b[0m\u001b[0;34m(\u001b[0m\u001b[0mbatch\u001b[0m\u001b[0;34m.\u001b[0m\u001b[0my\u001b[0m\u001b[0;34m,\u001b[0m \u001b[0mdtype\u001b[0m \u001b[0;34m=\u001b[0m \u001b[0mtorch\u001b[0m\u001b[0;34m.\u001b[0m\u001b[0mfloat32\u001b[0m\u001b[0;34m)\u001b[0m\u001b[0;34m)\u001b[0m\u001b[0;34m\u001b[0m\u001b[0;34m\u001b[0m\u001b[0m\n\u001b[1;32m     10\u001b[0m         \u001b[0;31m# set past gradient to zero\u001b[0m\u001b[0;34m\u001b[0m\u001b[0;34m\u001b[0m\u001b[0m\n",
      "\u001b[0;32m~/anaconda3/envs/deepbio/lib/python3.9/site-packages/torch/nn/modules/module.py\u001b[0m in \u001b[0;36m_call_impl\u001b[0;34m(self, *input, **kwargs)\u001b[0m\n\u001b[1;32m   1128\u001b[0m         if not (self._backward_hooks or self._forward_hooks or self._forward_pre_hooks or _global_backward_hooks\n\u001b[1;32m   1129\u001b[0m                 or _global_forward_hooks or _global_forward_pre_hooks):\n\u001b[0;32m-> 1130\u001b[0;31m             \u001b[0;32mreturn\u001b[0m \u001b[0mforward_call\u001b[0m\u001b[0;34m(\u001b[0m\u001b[0;34m*\u001b[0m\u001b[0minput\u001b[0m\u001b[0;34m,\u001b[0m \u001b[0;34m**\u001b[0m\u001b[0mkwargs\u001b[0m\u001b[0;34m)\u001b[0m\u001b[0;34m\u001b[0m\u001b[0;34m\u001b[0m\u001b[0m\n\u001b[0m\u001b[1;32m   1131\u001b[0m         \u001b[0;31m# Do not call functions when jit is used\u001b[0m\u001b[0;34m\u001b[0m\u001b[0;34m\u001b[0m\u001b[0m\n\u001b[1;32m   1132\u001b[0m         \u001b[0mfull_backward_hooks\u001b[0m\u001b[0;34m,\u001b[0m \u001b[0mnon_full_backward_hooks\u001b[0m \u001b[0;34m=\u001b[0m \u001b[0;34m[\u001b[0m\u001b[0;34m]\u001b[0m\u001b[0;34m,\u001b[0m \u001b[0;34m[\u001b[0m\u001b[0;34m]\u001b[0m\u001b[0;34m\u001b[0m\u001b[0;34m\u001b[0m\u001b[0m\n",
      "\u001b[0;31mTypeError\u001b[0m: forward() missing 1 required positional argument: 'edge_index'"
     ]
    }
   ],
   "source": [
    "# loop over 10 training epochs\n",
    "for epoch in range(10):\n",
    "    # set model to training mode\n",
    "    gnn_model.train()\n",
    "    # loop over minibatches for training\n",
    "    for (k, batch) in enumerate(dataloader):\n",
    "        # compute current value of loss function via forward pass\n",
    "        output = gnn_model(batch)\n",
    "        loss_function_value = loss_function(output[:,0], torch.tensor(batch.y, dtype = torch.float32))\n",
    "        # set past gradient to zero\n",
    "        optimiser.zero_grad()\n",
    "        # compute current gradient via backward pass\n",
    "        loss_function_value.backward()\n",
    "        # update model weights using gradient and optimisation method\n",
    "        optimiser.step()"
   ]
  }
 ],
 "metadata": {
  "kernelspec": {
   "display_name": "deepbio",
   "language": "python",
   "name": "deepbio"
  },
  "language_info": {
   "codemirror_mode": {
    "name": "ipython",
    "version": 3
   },
   "file_extension": ".py",
   "mimetype": "text/x-python",
   "name": "python",
   "nbconvert_exporter": "python",
   "pygments_lexer": "ipython3",
   "version": "3.9.15"
  }
 },
 "nbformat": 4,
 "nbformat_minor": 5
}
